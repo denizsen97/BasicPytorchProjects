{
 "metadata": {
  "language_info": {
   "codemirror_mode": {
    "name": "ipython",
    "version": 3
   },
   "file_extension": ".py",
   "mimetype": "text/x-python",
   "name": "python",
   "nbconvert_exporter": "python",
   "pygments_lexer": "ipython3",
   "version": "3.7.7-final"
  },
  "orig_nbformat": 2,
  "kernelspec": {
   "name": "python_defaultSpec_1599301483766",
   "display_name": "Python 3.7.7 64-bit ('base': conda)"
  }
 },
 "nbformat": 4,
 "nbformat_minor": 2,
 "cells": [
  {
   "cell_type": "code",
   "execution_count": 1,
   "metadata": {},
   "outputs": [],
   "source": [
    "import torch\n",
    "import pytorch_lightning as pl\n",
    "import torchvision\n",
    "from matplotlib import pyplot as plt\n",
    "import numpy as np\n",
    "from torch.nn import functional as F\n",
    "from torch import nn\n",
    "import advertorch as at\n",
    "from pytorch_lightning.loggers import TensorBoardLogger\n",
    "import foolbox as fb\n",
    "from CIFARCLassifier import CIFARCLassifier\n"
   ]
  },
  {
   "cell_type": "code",
   "execution_count": 2,
   "metadata": {
    "tags": []
   },
   "outputs": [
    {
     "output_type": "stream",
     "name": "stdout",
     "text": "True\n"
    }
   ],
   "source": [
    "print(torch.cuda.is_available())\n"
   ]
  },
  {
   "cell_type": "code",
   "execution_count": 3,
   "metadata": {
    "tags": []
   },
   "outputs": [],
   "source": [
    "model = CIFARCLassifier()"
   ]
  },
  {
   "cell_type": "code",
   "execution_count": 4,
   "metadata": {
    "tags": []
   },
   "outputs": [
    {
     "output_type": "stream",
     "name": "stderr",
     "text": "GPU available: True, used: True\nTPU available: False, using: 0 TPU cores\nCUDA_VISIBLE_DEVICES: [0]\n"
    }
   ],
   "source": [
    "model.prepare_data()\n",
    "logger = TensorBoardLogger('tb_logs', name=\"adversarial_cifar10_model\")\n",
    "model.train_dataloader()\n",
    "trainer = pl.Trainer(max_epochs=2, logger=logger, gpus=[0], fast_dev_run=False)"
   ]
  },
  {
   "cell_type": "code",
   "execution_count": 5,
   "metadata": {
    "tags": []
   },
   "outputs": [
    {
     "output_type": "stream",
     "name": "stderr",
     "text": "\n   | Name    | Type        | Params\n-----------------------------------------\n0  | conv1   | Conv2d      | 2 K   \n1  | bn1     | BatchNorm2d | 64    \n2  | pool    | MaxPool2d   | 0     \n3  | conv2   | Conv2d      | 12 K  \n4  | bn2     | BatchNorm2d | 32    \n5  | conv3   | Conv2d      | 12 K  \n6  | bn3     | BatchNorm2d | 64    \n7  | flatten | Flatten     | 0     \n8  | fc1     | Linear      | 65 K  \n9  | do1     | Dropout     | 0     \n10 | fc2     | Linear      | 1 K   \n"
    },
    {
     "output_type": "display_data",
     "data": {
      "text/plain": "HBox(children=(FloatProgress(value=1.0, bar_style='info', description='Validation sanity check', layout=Layout…",
      "application/vnd.jupyter.widget-view+json": {
       "version_major": 2,
       "version_minor": 0,
       "model_id": "6c00fa548b534c4eac5d2e294d8b6fb4"
      }
     },
     "metadata": {}
    },
    {
     "output_type": "stream",
     "name": "stdout",
     "text": "10000\nSuccessful attack:8647 Attack count:10000 Percentage:0.8647\n"
    },
    {
     "output_type": "display_data",
     "data": {
      "text/plain": "HBox(children=(FloatProgress(value=1.0, bar_style='info', description='Training', layout=Layout(flex='2'), max…",
      "application/vnd.jupyter.widget-view+json": {
       "version_major": 2,
       "version_minor": 0,
       "model_id": "4ee7e2903fdc485db06e820505281570"
      }
     },
     "metadata": {}
    },
    {
     "output_type": "display_data",
     "data": {
      "text/plain": "HBox(children=(FloatProgress(value=1.0, bar_style='info', description='Validating', layout=Layout(flex='2'), m…",
      "application/vnd.jupyter.widget-view+json": {
       "version_major": 2,
       "version_minor": 0,
       "model_id": "4519c59fde6c48dfb973e726e03b5210"
      }
     },
     "metadata": {}
    },
    {
     "output_type": "stream",
     "name": "stdout",
     "text": "10000\nSuccessful attack:4084 Attack count:10000 Percentage:0.4084\n"
    },
    {
     "output_type": "display_data",
     "data": {
      "text/plain": "HBox(children=(FloatProgress(value=1.0, bar_style='info', description='Validating', layout=Layout(flex='2'), m…",
      "application/vnd.jupyter.widget-view+json": {
       "version_major": 2,
       "version_minor": 0,
       "model_id": "31bcece7afc449f98c5ef11bfe600f17"
      }
     },
     "metadata": {}
    },
    {
     "output_type": "stream",
     "name": "stdout",
     "text": "10000\nSaving latest checkpoint..\nSuccessful attack:3562 Attack count:10000 Percentage:0.3562\n\n"
    },
    {
     "output_type": "execute_result",
     "data": {
      "text/plain": "1"
     },
     "metadata": {},
     "execution_count": 5
    }
   ],
   "source": [
    "trainer.fit(model)"
   ]
  },
  {
   "cell_type": "code",
   "execution_count": 6,
   "metadata": {
    "tags": []
   },
   "outputs": [
    {
     "output_type": "stream",
     "name": "stdout",
     "text": "10000\nSuccessful attack:3562 Attack count:10000 Percentage:0.3562\n"
    },
    {
     "output_type": "execute_result",
     "data": {
      "text/plain": "64.38"
     },
     "metadata": {},
     "execution_count": 6
    }
   ],
   "source": [
    "model.adversarial_validation()"
   ]
  },
  {
   "cell_type": "markdown",
   "metadata": {},
   "source": [
    "you can get the values of the named parameters with print(list(model.conv1.named_parameters()))"
   ]
  },
  {
   "cell_type": "code",
   "execution_count": 7,
   "metadata": {
    "tags": []
   },
   "outputs": [
    {
     "output_type": "stream",
     "name": "stdout",
     "text": "[('weight', Parameter containing:\ntensor([[[[-9.2531e-02, -1.1092e-01, -8.9914e-02,  3.7625e-02, -4.6159e-02],\n          [ 9.4196e-02, -1.1945e-01, -3.2949e-02,  1.5200e-01, -1.2732e-04],\n          [ 1.2444e-01, -4.4742e-02, -8.6356e-02,  1.0605e-01, -2.8258e-02],\n          [-1.2235e-02, -1.1799e-01, -1.7161e-01,  1.8011e-01, -1.4800e-01],\n          [-6.5543e-02,  9.6769e-02, -6.6543e-02,  4.7016e-02, -5.9040e-02]],\n\n         [[ 1.4739e-01, -1.4507e-03, -4.4452e-02,  8.6980e-02,  8.6316e-03],\n          [ 5.6593e-02,  2.9457e-02,  1.4238e-01,  8.6065e-02, -4.6510e-02],\n          [ 5.9029e-02,  8.4570e-02,  3.6732e-02,  1.3732e-01,  3.5968e-02],\n          [ 8.7225e-02, -1.2473e-01,  3.5441e-02,  2.4525e-01, -1.0805e-01],\n          [-8.6720e-02,  1.1490e-01,  3.7145e-02,  1.1837e-01, -1.3768e-01]],\n\n         [[ 7.1951e-02,  9.3405e-02, -1.2396e-01,  2.0572e-02,  5.4072e-02],\n          [-2.2805e-02, -1.3054e-01,  8.3805e-02,  9.4242e-02, -6.0547e-02],\n          [ 5.9537e-02, -4.5134e-02, -1.3361e-01, -9.0348e-03, -1.9790e-01],\n          [ 9.7835e-02, -1.7611e-01, -1.7110e-01,  1.9294e-01, -1.3700e-01],\n          [ 4.5459e-02,  8.0876e-02, -9.8759e-02,  1.6088e-01, -1.8502e-02]]],\n\n\n        [[[ 1.9681e-02,  5.0926e-02,  2.3747e-02, -1.1458e-01,  5.2335e-02],\n          [ 2.5713e-03, -1.9421e-02, -1.4488e-01, -9.8604e-02, -1.0814e-01],\n          [-1.1556e-01, -5.7783e-02, -1.1153e-01,  7.1369e-02, -7.7235e-02],\n          [-2.5404e-02,  1.4870e-02, -8.3307e-03, -2.4274e-02, -9.1719e-02],\n          [-8.0719e-02, -8.7871e-02, -3.5223e-02, -9.0831e-02,  8.1381e-02]],\n\n         [[-1.5370e-02,  1.4429e-02, -4.7419e-02,  3.3183e-02, -1.8240e-01],\n          [ 7.0352e-02,  3.8983e-02,  2.6261e-02,  7.4876e-02, -3.2753e-02],\n          [ 5.5946e-02, -5.4577e-02, -6.2498e-02, -1.0359e-01, -9.4040e-02],\n          [-1.2196e-01, -1.2090e-01, -1.0043e-01, -2.1649e-03,  4.8951e-02],\n          [ 4.3836e-02, -1.1041e-01,  9.6515e-03,  7.6956e-03,  4.8535e-02]],\n\n         [[ 9.6469e-02,  1.1631e-01,  1.0637e-01, -3.5767e-02,  6.3000e-03],\n          [ 1.7407e-01,  1.0406e-01,  1.3070e-01, -7.1776e-02, -6.7495e-02],\n          [ 1.2166e-01,  1.8615e-01,  1.1396e-01,  9.3228e-02,  1.3473e-01],\n          [ 5.8912e-02,  5.4253e-02,  1.7049e-01,  1.0833e-02,  7.9039e-02],\n          [-8.9039e-02,  7.7965e-02,  1.4720e-02,  1.0359e-01, -5.6071e-02]]],\n\n\n        [[[ 6.3249e-03,  6.1760e-02,  1.3172e-01, -4.2417e-02, -9.4153e-02],\n          [-1.1053e-02,  1.1564e-01, -5.1058e-02, -1.7297e-01,  2.2675e-02],\n          [ 6.6851e-02, -1.0247e-01, -1.8133e-01, -3.8200e-02,  2.3764e-01],\n          [ 3.7979e-02, -1.5255e-01, -7.5651e-02,  1.8076e-02,  5.7410e-02],\n          [-7.7686e-02, -3.0313e-02,  1.4064e-01,  6.8295e-03,  1.0167e-02]],\n\n         [[-2.1988e-02,  1.3163e-01,  1.1745e-01, -1.0262e-01, -1.0577e-01],\n          [-8.9139e-02,  1.5728e-01, -1.3569e-01, -1.0354e-01, -8.1232e-02],\n          [ 8.1421e-02, -5.0327e-02, -1.7602e-01,  5.6322e-03,  2.2463e-01],\n          [ 6.2599e-02, -9.9822e-02, -6.7548e-02,  1.2848e-01,  6.9848e-02],\n          [-1.7435e-02, -8.0418e-02,  7.3395e-02, -9.7501e-02,  1.4644e-02]],\n\n         [[-1.4746e-01,  7.3046e-02,  2.3001e-01,  1.2745e-01, -1.2699e-01],\n          [-3.2985e-03,  4.7439e-02, -7.4766e-02, -1.3241e-01, -6.5579e-02],\n          [ 9.0454e-03,  6.8635e-02, -8.1826e-02, -2.7317e-02,  1.0883e-01],\n          [ 6.4773e-02, -8.8711e-02,  5.2258e-02,  8.6796e-02,  5.7603e-02],\n          [ 5.7066e-03,  6.2779e-03,  6.3895e-02, -5.0417e-02, -1.2363e-01]]],\n\n\n        ...,\n\n\n        [[[ 2.4105e-02, -7.8094e-03,  1.5920e-02,  1.2471e-02, -6.1927e-02],\n          [ 1.1954e-01,  1.8050e-02, -7.9027e-02, -3.0529e-02, -7.6496e-02],\n          [ 1.1902e-01, -1.0515e-01,  1.5969e-02, -2.2388e-02, -1.2807e-03],\n          [ 3.9674e-02, -8.0557e-02, -1.0964e-01,  3.1252e-02, -5.0272e-02],\n          [ 1.0759e-01, -6.6000e-02,  3.8848e-02, -6.8670e-02, -6.6641e-02]],\n\n         [[-4.0298e-02,  1.4721e-02, -8.8942e-03,  8.5068e-02, -1.0358e-02],\n          [-4.2722e-02, -1.2034e-01,  3.8631e-02, -3.7933e-02,  1.2724e-01],\n          [-2.8544e-02,  2.8007e-02, -1.9573e-02,  8.4951e-02,  1.4514e-01],\n          [ 3.0672e-03, -9.3776e-02, -2.4668e-02,  8.9932e-03,  1.1215e-01],\n          [-7.8554e-03, -1.0429e-01,  6.8962e-02, -5.3965e-02,  1.2496e-01]],\n\n         [[ 4.2007e-02, -1.5063e-01, -6.0118e-02, -6.5273e-02,  7.2446e-02],\n          [-1.3784e-01, -1.4267e-01,  7.5625e-02, -1.1367e-02,  1.1442e-01],\n          [-5.7212e-02, -2.0521e-01, -8.3951e-03,  4.6185e-02,  1.0276e-01],\n          [-1.0409e-01, -4.5205e-02,  1.6891e-02,  5.7534e-02,  6.6155e-02],\n          [-8.5217e-02, -3.3210e-02,  2.7531e-02,  1.3724e-01,  2.2342e-01]]],\n\n\n        [[[ 1.3397e-01, -2.8052e-03, -9.4299e-03, -1.4925e-01,  3.6334e-02],\n          [ 8.4862e-03,  9.4173e-02, -1.3363e-01,  2.6474e-02, -9.5524e-02],\n          [ 7.3200e-02,  7.9296e-02,  2.3859e-02, -4.5009e-02, -1.1331e-01],\n          [-9.7250e-02, -4.4933e-02, -1.1497e-02,  8.4707e-02,  1.9363e-02],\n          [ 5.4673e-02,  7.7717e-03, -5.9477e-02, -8.3809e-02, -5.2092e-02]],\n\n         [[ 1.1588e-01, -2.8931e-02, -4.1904e-02, -1.2719e-01, -1.0044e-01],\n          [ 7.0909e-02,  7.9578e-03,  3.8203e-02,  9.4245e-02, -8.8450e-02],\n          [-8.7952e-02,  6.2421e-02, -2.6904e-03, -8.7510e-02, -3.1052e-02],\n          [-9.7864e-02,  9.2758e-03,  5.2041e-02,  5.6312e-02,  1.5143e-01],\n          [ 8.7110e-02, -3.1122e-02,  5.7291e-02,  7.1246e-02,  8.9805e-02]],\n\n         [[ 1.2113e-01,  2.5840e-02,  4.6280e-03, -1.2449e-01, -1.0975e-01],\n          [ 5.4953e-02,  1.0934e-02, -6.2152e-02, -7.8775e-02, -1.4244e-01],\n          [-6.9857e-02, -5.6104e-02, -6.1366e-05,  1.3370e-02, -1.4701e-03],\n          [-3.7637e-02, -8.4210e-02,  6.4594e-02,  6.6105e-02,  6.5953e-03],\n          [ 9.9283e-02,  3.5987e-02, -7.8572e-02, -8.1938e-02,  2.0850e-02]]],\n\n\n        [[[-1.8815e-02,  2.4131e-02, -5.1469e-02,  9.7641e-02, -4.6788e-02],\n          [ 5.4228e-03, -7.6303e-02, -1.4331e-01,  9.5751e-02,  4.4179e-02],\n          [-2.4699e-02,  6.4226e-02, -9.6423e-02, -8.8215e-02,  1.5966e-01],\n          [-2.2015e-01,  3.0729e-01, -1.7342e-01, -2.1884e-01,  1.9464e-01],\n          [-2.2231e-01,  1.2461e-01,  1.4710e-01, -1.0627e-01, -3.3190e-02]],\n\n         [[-8.8796e-02, -5.8358e-02,  1.6511e-02,  2.9710e-02, -1.2348e-01],\n          [ 2.2219e-03,  7.7911e-02, -1.8508e-01,  1.2271e-01,  1.0480e-01],\n          [-1.4743e-03,  1.9813e-01, -2.1110e-01, -1.6218e-01,  1.8379e-01],\n          [-4.1698e-02,  2.3160e-01, -7.2859e-02, -3.1168e-01,  2.1512e-01],\n          [-4.8730e-02,  1.2485e-01,  7.4071e-02, -4.4979e-02, -4.7319e-02]],\n\n         [[ 5.9092e-02, -5.1316e-02, -2.4682e-02,  6.6608e-02, -9.0402e-03],\n          [ 6.3468e-02, -2.0231e-02, -7.8144e-02,  7.4031e-02, -9.6545e-02],\n          [-2.7232e-02,  9.9728e-02, -1.1726e-01, -9.9357e-02,  1.5065e-01],\n          [-7.0443e-02,  3.1461e-01, -1.1114e-01, -2.0025e-01,  4.0821e-02],\n          [-1.5939e-01,  1.4430e-01,  1.2891e-01, -1.4081e-01, -4.8422e-02]]]],\n       requires_grad=True)), ('bias', Parameter containing:\ntensor([ 0.0062,  0.1131,  0.0315,  0.1203,  0.0269,  0.1335, -0.0058,  0.0195,\n         0.0522, -0.2693, -0.0694, -0.0061, -0.0284,  0.1595, -0.1163, -0.0823,\n        -0.0439, -0.0594, -0.0029,  0.0386, -0.1090, -0.0439,  0.0931, -0.0575,\n         0.0529, -0.0415,  0.0260,  0.0886,  0.0773,  0.0595, -0.1048, -0.0108],\n       requires_grad=True))]\n"
    }
   ],
   "source": [
    "print(list(model.conv1.named_parameters()))"
   ]
  },
  {
   "cell_type": "code",
   "execution_count": 8,
   "metadata": {},
   "outputs": [],
   "source": [
    "model.perform_pruning()"
   ]
  },
  {
   "cell_type": "code",
   "execution_count": 9,
   "metadata": {
    "tags": []
   },
   "outputs": [
    {
     "output_type": "stream",
     "name": "stdout",
     "text": "[('weight', Parameter containing:\ntensor([[[[-9.2531e-02, -1.1092e-01, -8.9914e-02,  3.7625e-02, -4.6159e-02],\n          [ 9.4196e-02, -1.1945e-01, -3.2949e-02,  1.5200e-01, -1.2732e-04],\n          [ 1.2444e-01, -4.4742e-02, -8.6356e-02,  1.0605e-01, -2.8258e-02],\n          [-1.2235e-02, -1.1799e-01, -1.7161e-01,  1.8011e-01, -1.4800e-01],\n          [-6.5543e-02,  9.6769e-02, -6.6543e-02,  4.7016e-02, -5.9040e-02]],\n\n         [[ 1.4739e-01, -1.4507e-03, -4.4452e-02,  8.6980e-02,  8.6316e-03],\n          [ 5.6593e-02,  2.9457e-02,  1.4238e-01,  8.6065e-02, -4.6510e-02],\n          [ 5.9029e-02,  8.4570e-02,  3.6732e-02,  1.3732e-01,  3.5968e-02],\n          [ 8.7225e-02, -1.2473e-01,  3.5441e-02,  2.4525e-01, -1.0805e-01],\n          [-8.6720e-02,  1.1490e-01,  3.7145e-02,  1.1837e-01, -1.3768e-01]],\n\n         [[ 7.1951e-02,  9.3405e-02, -1.2396e-01,  2.0572e-02,  5.4072e-02],\n          [-2.2805e-02, -1.3054e-01,  8.3805e-02,  9.4242e-02, -6.0547e-02],\n          [ 5.9537e-02, -4.5134e-02, -1.3361e-01, -9.0348e-03, -1.9790e-01],\n          [ 9.7835e-02, -1.7611e-01, -1.7110e-01,  1.9294e-01, -1.3700e-01],\n          [ 4.5459e-02,  8.0876e-02, -9.8759e-02,  1.6088e-01, -1.8502e-02]]],\n\n\n        [[[ 1.9681e-02,  5.0926e-02,  2.3747e-02, -1.1458e-01,  5.2335e-02],\n          [ 2.5713e-03, -1.9421e-02, -1.4488e-01, -9.8604e-02, -1.0814e-01],\n          [-1.1556e-01, -5.7783e-02, -1.1153e-01,  7.1369e-02, -7.7235e-02],\n          [-2.5404e-02,  1.4870e-02, -8.3307e-03, -2.4274e-02, -9.1719e-02],\n          [-8.0719e-02, -8.7871e-02, -3.5223e-02, -9.0831e-02,  8.1381e-02]],\n\n         [[-1.5370e-02,  1.4429e-02, -4.7419e-02,  3.3183e-02, -1.8240e-01],\n          [ 7.0352e-02,  3.8983e-02,  2.6261e-02,  7.4876e-02, -3.2753e-02],\n          [ 5.5946e-02, -5.4577e-02, -6.2498e-02, -1.0359e-01, -9.4040e-02],\n          [-1.2196e-01, -1.2090e-01, -1.0043e-01, -2.1649e-03,  4.8951e-02],\n          [ 4.3836e-02, -1.1041e-01,  9.6515e-03,  7.6956e-03,  4.8535e-02]],\n\n         [[ 9.6469e-02,  1.1631e-01,  1.0637e-01, -3.5767e-02,  6.3000e-03],\n          [ 1.7407e-01,  1.0406e-01,  1.3070e-01, -7.1776e-02, -6.7495e-02],\n          [ 1.2166e-01,  1.8615e-01,  1.1396e-01,  9.3228e-02,  1.3473e-01],\n          [ 5.8912e-02,  5.4253e-02,  1.7049e-01,  1.0833e-02,  7.9039e-02],\n          [-8.9039e-02,  7.7965e-02,  1.4720e-02,  1.0359e-01, -5.6071e-02]]],\n\n\n        [[[ 6.3249e-03,  6.1760e-02,  1.3172e-01, -4.2417e-02, -9.4153e-02],\n          [-1.1053e-02,  1.1564e-01, -5.1058e-02, -1.7297e-01,  2.2675e-02],\n          [ 6.6851e-02, -1.0247e-01, -1.8133e-01, -3.8200e-02,  2.3764e-01],\n          [ 3.7979e-02, -1.5255e-01, -7.5651e-02,  1.8076e-02,  5.7410e-02],\n          [-7.7686e-02, -3.0313e-02,  1.4064e-01,  6.8295e-03,  1.0167e-02]],\n\n         [[-2.1988e-02,  1.3163e-01,  1.1745e-01, -1.0262e-01, -1.0577e-01],\n          [-8.9139e-02,  1.5728e-01, -1.3569e-01, -1.0354e-01, -8.1232e-02],\n          [ 8.1421e-02, -5.0327e-02, -1.7602e-01,  5.6322e-03,  2.2463e-01],\n          [ 6.2599e-02, -9.9822e-02, -6.7548e-02,  1.2848e-01,  6.9848e-02],\n          [-1.7435e-02, -8.0418e-02,  7.3395e-02, -9.7501e-02,  1.4644e-02]],\n\n         [[-1.4746e-01,  7.3046e-02,  2.3001e-01,  1.2745e-01, -1.2699e-01],\n          [-3.2985e-03,  4.7439e-02, -7.4766e-02, -1.3241e-01, -6.5579e-02],\n          [ 9.0454e-03,  6.8635e-02, -8.1826e-02, -2.7317e-02,  1.0883e-01],\n          [ 6.4773e-02, -8.8711e-02,  5.2258e-02,  8.6796e-02,  5.7603e-02],\n          [ 5.7066e-03,  6.2779e-03,  6.3895e-02, -5.0417e-02, -1.2363e-01]]],\n\n\n        ...,\n\n\n        [[[ 2.4105e-02, -7.8094e-03,  1.5920e-02,  1.2471e-02, -6.1927e-02],\n          [ 1.1954e-01,  1.8050e-02, -7.9027e-02, -3.0529e-02, -7.6496e-02],\n          [ 1.1902e-01, -1.0515e-01,  1.5969e-02, -2.2388e-02, -1.2807e-03],\n          [ 3.9674e-02, -8.0557e-02, -1.0964e-01,  3.1252e-02, -5.0272e-02],\n          [ 1.0759e-01, -6.6000e-02,  3.8848e-02, -6.8670e-02, -6.6641e-02]],\n\n         [[-4.0298e-02,  1.4721e-02, -8.8942e-03,  8.5068e-02, -1.0358e-02],\n          [-4.2722e-02, -1.2034e-01,  3.8631e-02, -3.7933e-02,  1.2724e-01],\n          [-2.8544e-02,  2.8007e-02, -1.9573e-02,  8.4951e-02,  1.4514e-01],\n          [ 3.0672e-03, -9.3776e-02, -2.4668e-02,  8.9932e-03,  1.1215e-01],\n          [-7.8554e-03, -1.0429e-01,  6.8962e-02, -5.3965e-02,  1.2496e-01]],\n\n         [[ 4.2007e-02, -1.5063e-01, -6.0118e-02, -6.5273e-02,  7.2446e-02],\n          [-1.3784e-01, -1.4267e-01,  7.5625e-02, -1.1367e-02,  1.1442e-01],\n          [-5.7212e-02, -2.0521e-01, -8.3951e-03,  4.6185e-02,  1.0276e-01],\n          [-1.0409e-01, -4.5205e-02,  1.6891e-02,  5.7534e-02,  6.6155e-02],\n          [-8.5217e-02, -3.3210e-02,  2.7531e-02,  1.3724e-01,  2.2342e-01]]],\n\n\n        [[[ 1.3397e-01, -2.8052e-03, -9.4299e-03, -1.4925e-01,  3.6334e-02],\n          [ 8.4862e-03,  9.4173e-02, -1.3363e-01,  2.6474e-02, -9.5524e-02],\n          [ 7.3200e-02,  7.9296e-02,  2.3859e-02, -4.5009e-02, -1.1331e-01],\n          [-9.7250e-02, -4.4933e-02, -1.1497e-02,  8.4707e-02,  1.9363e-02],\n          [ 5.4673e-02,  7.7717e-03, -5.9477e-02, -8.3809e-02, -5.2092e-02]],\n\n         [[ 1.1588e-01, -2.8931e-02, -4.1904e-02, -1.2719e-01, -1.0044e-01],\n          [ 7.0909e-02,  7.9578e-03,  3.8203e-02,  9.4245e-02, -8.8450e-02],\n          [-8.7952e-02,  6.2421e-02, -2.6904e-03, -8.7510e-02, -3.1052e-02],\n          [-9.7864e-02,  9.2758e-03,  5.2041e-02,  5.6312e-02,  1.5143e-01],\n          [ 8.7110e-02, -3.1122e-02,  5.7291e-02,  7.1246e-02,  8.9805e-02]],\n\n         [[ 1.2113e-01,  2.5840e-02,  4.6280e-03, -1.2449e-01, -1.0975e-01],\n          [ 5.4953e-02,  1.0934e-02, -6.2152e-02, -7.8775e-02, -1.4244e-01],\n          [-6.9857e-02, -5.6104e-02, -6.1366e-05,  1.3370e-02, -1.4701e-03],\n          [-3.7637e-02, -8.4210e-02,  6.4594e-02,  6.6105e-02,  6.5953e-03],\n          [ 9.9283e-02,  3.5987e-02, -7.8572e-02, -8.1938e-02,  2.0850e-02]]],\n\n\n        [[[-1.8815e-02,  2.4131e-02, -5.1469e-02,  9.7641e-02, -4.6788e-02],\n          [ 5.4228e-03, -7.6303e-02, -1.4331e-01,  9.5751e-02,  4.4179e-02],\n          [-2.4699e-02,  6.4226e-02, -9.6423e-02, -8.8215e-02,  1.5966e-01],\n          [-2.2015e-01,  3.0729e-01, -1.7342e-01, -2.1884e-01,  1.9464e-01],\n          [-2.2231e-01,  1.2461e-01,  1.4710e-01, -1.0627e-01, -3.3190e-02]],\n\n         [[-8.8796e-02, -5.8358e-02,  1.6511e-02,  2.9710e-02, -1.2348e-01],\n          [ 2.2219e-03,  7.7911e-02, -1.8508e-01,  1.2271e-01,  1.0480e-01],\n          [-1.4743e-03,  1.9813e-01, -2.1110e-01, -1.6218e-01,  1.8379e-01],\n          [-4.1698e-02,  2.3160e-01, -7.2859e-02, -3.1168e-01,  2.1512e-01],\n          [-4.8730e-02,  1.2485e-01,  7.4071e-02, -4.4979e-02, -4.7319e-02]],\n\n         [[ 5.9092e-02, -5.1316e-02, -2.4682e-02,  6.6608e-02, -9.0402e-03],\n          [ 6.3468e-02, -2.0231e-02, -7.8144e-02,  7.4031e-02, -9.6545e-02],\n          [-2.7232e-02,  9.9728e-02, -1.1726e-01, -9.9357e-02,  1.5065e-01],\n          [-7.0443e-02,  3.1461e-01, -1.1114e-01, -2.0025e-01,  4.0821e-02],\n          [-1.5939e-01,  1.4430e-01,  1.2891e-01, -1.4081e-01, -4.8422e-02]]]],\n       requires_grad=True)), ('bias', Parameter containing:\ntensor([ 0.0062,  0.1131,  0.0315,  0.1203,  0.0269,  0.1335, -0.0058,  0.0195,\n         0.0522, -0.2693, -0.0694, -0.0061, -0.0284,  0.1595, -0.1163, -0.0823,\n        -0.0439, -0.0594, -0.0029,  0.0386, -0.1090, -0.0439,  0.0931, -0.0575,\n         0.0529, -0.0415,  0.0260,  0.0886,  0.0773,  0.0595, -0.1048, -0.0108],\n       requires_grad=True))]\n"
    }
   ],
   "source": [
    "print(list(model.conv1.named_parameters()))"
   ]
  },
  {
   "cell_type": "code",
   "execution_count": 10,
   "metadata": {
    "tags": []
   },
   "outputs": [
    {
     "output_type": "stream",
     "name": "stdout",
     "text": "[]\n"
    }
   ],
   "source": [
    "print(list(model.conv1.named_buffers()))"
   ]
  },
  {
   "cell_type": "code",
   "execution_count": 11,
   "metadata": {
    "tags": []
   },
   "outputs": [
    {
     "output_type": "stream",
     "name": "stdout",
     "text": "10000\n"
    },
    {
     "output_type": "error",
     "ename": "RuntimeError",
     "evalue": "Only Tensors created explicitly by the user (graph leaves) support the deepcopy protocol at the moment",
     "traceback": [
      "\u001b[0;31m---------------------------------------------------------------------------\u001b[0m",
      "\u001b[0;31mRuntimeError\u001b[0m                              Traceback (most recent call last)",
      "\u001b[0;32m<ipython-input-11-7d2a422ebe6f>\u001b[0m in \u001b[0;36m<module>\u001b[0;34m\u001b[0m\n\u001b[0;32m----> 1\u001b[0;31m \u001b[0mmodel\u001b[0m\u001b[0;34m.\u001b[0m\u001b[0madversarial_validation\u001b[0m\u001b[0;34m(\u001b[0m\u001b[0;34m)\u001b[0m\u001b[0;34m\u001b[0m\u001b[0;34m\u001b[0m\u001b[0m\n\u001b[0m",
      "\u001b[0;32m/workspace/CIFARCLassifier.py\u001b[0m in \u001b[0;36madversarial_validation\u001b[0;34m(self)\u001b[0m\n\u001b[1;32m    114\u001b[0m         \u001b[0mprint\u001b[0m\u001b[0;34m(\u001b[0m\u001b[0mlen\u001b[0m\u001b[0;34m(\u001b[0m\u001b[0mself\u001b[0m\u001b[0;34m.\u001b[0m\u001b[0mcifar_val\u001b[0m\u001b[0;34m)\u001b[0m\u001b[0;34m)\u001b[0m\u001b[0;34m\u001b[0m\u001b[0;34m\u001b[0m\u001b[0m\n\u001b[1;32m    115\u001b[0m         \u001b[0mself\u001b[0m\u001b[0;34m.\u001b[0m\u001b[0meval\u001b[0m\u001b[0;34m(\u001b[0m\u001b[0;34m)\u001b[0m\u001b[0;34m\u001b[0m\u001b[0;34m\u001b[0m\u001b[0m\n\u001b[0;32m--> 116\u001b[0;31m         \u001b[0madv_model\u001b[0m \u001b[0;34m=\u001b[0m \u001b[0mfb\u001b[0m\u001b[0;34m.\u001b[0m\u001b[0mPyTorchModel\u001b[0m\u001b[0;34m(\u001b[0m\u001b[0mdeepcopy\u001b[0m\u001b[0;34m(\u001b[0m\u001b[0mself\u001b[0m\u001b[0;34m)\u001b[0m\u001b[0;34m,\u001b[0m \u001b[0mbounds\u001b[0m\u001b[0;34m=\u001b[0m\u001b[0;34m(\u001b[0m\u001b[0;36m0\u001b[0m\u001b[0;34m,\u001b[0m\u001b[0;36m1\u001b[0m\u001b[0;34m)\u001b[0m\u001b[0;34m)\u001b[0m\u001b[0;34m\u001b[0m\u001b[0;34m\u001b[0m\u001b[0m\n\u001b[0m\u001b[1;32m    117\u001b[0m         \u001b[0msuccessful_attack_sum\u001b[0m \u001b[0;34m=\u001b[0m \u001b[0;36m0\u001b[0m\u001b[0;34m\u001b[0m\u001b[0;34m\u001b[0m\u001b[0m\n\u001b[1;32m    118\u001b[0m \u001b[0;34m\u001b[0m\u001b[0m\n",
      "\u001b[0;32m/opt/conda/lib/python3.7/copy.py\u001b[0m in \u001b[0;36mdeepcopy\u001b[0;34m(x, memo, _nil)\u001b[0m\n\u001b[1;32m    178\u001b[0m                     \u001b[0my\u001b[0m \u001b[0;34m=\u001b[0m \u001b[0mx\u001b[0m\u001b[0;34m\u001b[0m\u001b[0;34m\u001b[0m\u001b[0m\n\u001b[1;32m    179\u001b[0m                 \u001b[0;32melse\u001b[0m\u001b[0;34m:\u001b[0m\u001b[0;34m\u001b[0m\u001b[0;34m\u001b[0m\u001b[0m\n\u001b[0;32m--> 180\u001b[0;31m                     \u001b[0my\u001b[0m \u001b[0;34m=\u001b[0m \u001b[0m_reconstruct\u001b[0m\u001b[0;34m(\u001b[0m\u001b[0mx\u001b[0m\u001b[0;34m,\u001b[0m \u001b[0mmemo\u001b[0m\u001b[0;34m,\u001b[0m \u001b[0;34m*\u001b[0m\u001b[0mrv\u001b[0m\u001b[0;34m)\u001b[0m\u001b[0;34m\u001b[0m\u001b[0;34m\u001b[0m\u001b[0m\n\u001b[0m\u001b[1;32m    181\u001b[0m \u001b[0;34m\u001b[0m\u001b[0m\n\u001b[1;32m    182\u001b[0m     \u001b[0;31m# If is its own copy, don't memoize.\u001b[0m\u001b[0;34m\u001b[0m\u001b[0;34m\u001b[0m\u001b[0;34m\u001b[0m\u001b[0m\n",
      "\u001b[0;32m/opt/conda/lib/python3.7/copy.py\u001b[0m in \u001b[0;36m_reconstruct\u001b[0;34m(x, memo, func, args, state, listiter, dictiter, deepcopy)\u001b[0m\n\u001b[1;32m    279\u001b[0m     \u001b[0;32mif\u001b[0m \u001b[0mstate\u001b[0m \u001b[0;32mis\u001b[0m \u001b[0;32mnot\u001b[0m \u001b[0;32mNone\u001b[0m\u001b[0;34m:\u001b[0m\u001b[0;34m\u001b[0m\u001b[0;34m\u001b[0m\u001b[0m\n\u001b[1;32m    280\u001b[0m         \u001b[0;32mif\u001b[0m \u001b[0mdeep\u001b[0m\u001b[0;34m:\u001b[0m\u001b[0;34m\u001b[0m\u001b[0;34m\u001b[0m\u001b[0m\n\u001b[0;32m--> 281\u001b[0;31m             \u001b[0mstate\u001b[0m \u001b[0;34m=\u001b[0m \u001b[0mdeepcopy\u001b[0m\u001b[0;34m(\u001b[0m\u001b[0mstate\u001b[0m\u001b[0;34m,\u001b[0m \u001b[0mmemo\u001b[0m\u001b[0;34m)\u001b[0m\u001b[0;34m\u001b[0m\u001b[0;34m\u001b[0m\u001b[0m\n\u001b[0m\u001b[1;32m    282\u001b[0m         \u001b[0;32mif\u001b[0m \u001b[0mhasattr\u001b[0m\u001b[0;34m(\u001b[0m\u001b[0my\u001b[0m\u001b[0;34m,\u001b[0m \u001b[0;34m'__setstate__'\u001b[0m\u001b[0;34m)\u001b[0m\u001b[0;34m:\u001b[0m\u001b[0;34m\u001b[0m\u001b[0;34m\u001b[0m\u001b[0m\n\u001b[1;32m    283\u001b[0m             \u001b[0my\u001b[0m\u001b[0;34m.\u001b[0m\u001b[0m__setstate__\u001b[0m\u001b[0;34m(\u001b[0m\u001b[0mstate\u001b[0m\u001b[0;34m)\u001b[0m\u001b[0;34m\u001b[0m\u001b[0;34m\u001b[0m\u001b[0m\n",
      "\u001b[0;32m/opt/conda/lib/python3.7/copy.py\u001b[0m in \u001b[0;36mdeepcopy\u001b[0;34m(x, memo, _nil)\u001b[0m\n\u001b[1;32m    148\u001b[0m     \u001b[0mcopier\u001b[0m \u001b[0;34m=\u001b[0m \u001b[0m_deepcopy_dispatch\u001b[0m\u001b[0;34m.\u001b[0m\u001b[0mget\u001b[0m\u001b[0;34m(\u001b[0m\u001b[0mcls\u001b[0m\u001b[0;34m)\u001b[0m\u001b[0;34m\u001b[0m\u001b[0;34m\u001b[0m\u001b[0m\n\u001b[1;32m    149\u001b[0m     \u001b[0;32mif\u001b[0m \u001b[0mcopier\u001b[0m\u001b[0;34m:\u001b[0m\u001b[0;34m\u001b[0m\u001b[0;34m\u001b[0m\u001b[0m\n\u001b[0;32m--> 150\u001b[0;31m         \u001b[0my\u001b[0m \u001b[0;34m=\u001b[0m \u001b[0mcopier\u001b[0m\u001b[0;34m(\u001b[0m\u001b[0mx\u001b[0m\u001b[0;34m,\u001b[0m \u001b[0mmemo\u001b[0m\u001b[0;34m)\u001b[0m\u001b[0;34m\u001b[0m\u001b[0;34m\u001b[0m\u001b[0m\n\u001b[0m\u001b[1;32m    151\u001b[0m     \u001b[0;32melse\u001b[0m\u001b[0;34m:\u001b[0m\u001b[0;34m\u001b[0m\u001b[0;34m\u001b[0m\u001b[0m\n\u001b[1;32m    152\u001b[0m         \u001b[0;32mtry\u001b[0m\u001b[0;34m:\u001b[0m\u001b[0;34m\u001b[0m\u001b[0;34m\u001b[0m\u001b[0m\n",
      "\u001b[0;32m/opt/conda/lib/python3.7/copy.py\u001b[0m in \u001b[0;36m_deepcopy_dict\u001b[0;34m(x, memo, deepcopy)\u001b[0m\n\u001b[1;32m    239\u001b[0m     \u001b[0mmemo\u001b[0m\u001b[0;34m[\u001b[0m\u001b[0mid\u001b[0m\u001b[0;34m(\u001b[0m\u001b[0mx\u001b[0m\u001b[0;34m)\u001b[0m\u001b[0;34m]\u001b[0m \u001b[0;34m=\u001b[0m \u001b[0my\u001b[0m\u001b[0;34m\u001b[0m\u001b[0;34m\u001b[0m\u001b[0m\n\u001b[1;32m    240\u001b[0m     \u001b[0;32mfor\u001b[0m \u001b[0mkey\u001b[0m\u001b[0;34m,\u001b[0m \u001b[0mvalue\u001b[0m \u001b[0;32min\u001b[0m \u001b[0mx\u001b[0m\u001b[0;34m.\u001b[0m\u001b[0mitems\u001b[0m\u001b[0;34m(\u001b[0m\u001b[0;34m)\u001b[0m\u001b[0;34m:\u001b[0m\u001b[0;34m\u001b[0m\u001b[0;34m\u001b[0m\u001b[0m\n\u001b[0;32m--> 241\u001b[0;31m         \u001b[0my\u001b[0m\u001b[0;34m[\u001b[0m\u001b[0mdeepcopy\u001b[0m\u001b[0;34m(\u001b[0m\u001b[0mkey\u001b[0m\u001b[0;34m,\u001b[0m \u001b[0mmemo\u001b[0m\u001b[0;34m)\u001b[0m\u001b[0;34m]\u001b[0m \u001b[0;34m=\u001b[0m \u001b[0mdeepcopy\u001b[0m\u001b[0;34m(\u001b[0m\u001b[0mvalue\u001b[0m\u001b[0;34m,\u001b[0m \u001b[0mmemo\u001b[0m\u001b[0;34m)\u001b[0m\u001b[0;34m\u001b[0m\u001b[0;34m\u001b[0m\u001b[0m\n\u001b[0m\u001b[1;32m    242\u001b[0m     \u001b[0;32mreturn\u001b[0m \u001b[0my\u001b[0m\u001b[0;34m\u001b[0m\u001b[0;34m\u001b[0m\u001b[0m\n\u001b[1;32m    243\u001b[0m \u001b[0md\u001b[0m\u001b[0;34m[\u001b[0m\u001b[0mdict\u001b[0m\u001b[0;34m]\u001b[0m \u001b[0;34m=\u001b[0m \u001b[0m_deepcopy_dict\u001b[0m\u001b[0;34m\u001b[0m\u001b[0;34m\u001b[0m\u001b[0m\n",
      "\u001b[0;32m/opt/conda/lib/python3.7/copy.py\u001b[0m in \u001b[0;36mdeepcopy\u001b[0;34m(x, memo, _nil)\u001b[0m\n\u001b[1;32m    178\u001b[0m                     \u001b[0my\u001b[0m \u001b[0;34m=\u001b[0m \u001b[0mx\u001b[0m\u001b[0;34m\u001b[0m\u001b[0;34m\u001b[0m\u001b[0m\n\u001b[1;32m    179\u001b[0m                 \u001b[0;32melse\u001b[0m\u001b[0;34m:\u001b[0m\u001b[0;34m\u001b[0m\u001b[0;34m\u001b[0m\u001b[0m\n\u001b[0;32m--> 180\u001b[0;31m                     \u001b[0my\u001b[0m \u001b[0;34m=\u001b[0m \u001b[0m_reconstruct\u001b[0m\u001b[0;34m(\u001b[0m\u001b[0mx\u001b[0m\u001b[0;34m,\u001b[0m \u001b[0mmemo\u001b[0m\u001b[0;34m,\u001b[0m \u001b[0;34m*\u001b[0m\u001b[0mrv\u001b[0m\u001b[0;34m)\u001b[0m\u001b[0;34m\u001b[0m\u001b[0;34m\u001b[0m\u001b[0m\n\u001b[0m\u001b[1;32m    181\u001b[0m \u001b[0;34m\u001b[0m\u001b[0m\n\u001b[1;32m    182\u001b[0m     \u001b[0;31m# If is its own copy, don't memoize.\u001b[0m\u001b[0;34m\u001b[0m\u001b[0;34m\u001b[0m\u001b[0;34m\u001b[0m\u001b[0m\n",
      "\u001b[0;32m/opt/conda/lib/python3.7/copy.py\u001b[0m in \u001b[0;36m_reconstruct\u001b[0;34m(x, memo, func, args, state, listiter, dictiter, deepcopy)\u001b[0m\n\u001b[1;32m    305\u001b[0m             \u001b[0;32mfor\u001b[0m \u001b[0mkey\u001b[0m\u001b[0;34m,\u001b[0m \u001b[0mvalue\u001b[0m \u001b[0;32min\u001b[0m \u001b[0mdictiter\u001b[0m\u001b[0;34m:\u001b[0m\u001b[0;34m\u001b[0m\u001b[0;34m\u001b[0m\u001b[0m\n\u001b[1;32m    306\u001b[0m                 \u001b[0mkey\u001b[0m \u001b[0;34m=\u001b[0m \u001b[0mdeepcopy\u001b[0m\u001b[0;34m(\u001b[0m\u001b[0mkey\u001b[0m\u001b[0;34m,\u001b[0m \u001b[0mmemo\u001b[0m\u001b[0;34m)\u001b[0m\u001b[0;34m\u001b[0m\u001b[0;34m\u001b[0m\u001b[0m\n\u001b[0;32m--> 307\u001b[0;31m                 \u001b[0mvalue\u001b[0m \u001b[0;34m=\u001b[0m \u001b[0mdeepcopy\u001b[0m\u001b[0;34m(\u001b[0m\u001b[0mvalue\u001b[0m\u001b[0;34m,\u001b[0m \u001b[0mmemo\u001b[0m\u001b[0;34m)\u001b[0m\u001b[0;34m\u001b[0m\u001b[0;34m\u001b[0m\u001b[0m\n\u001b[0m\u001b[1;32m    308\u001b[0m                 \u001b[0my\u001b[0m\u001b[0;34m[\u001b[0m\u001b[0mkey\u001b[0m\u001b[0;34m]\u001b[0m \u001b[0;34m=\u001b[0m \u001b[0mvalue\u001b[0m\u001b[0;34m\u001b[0m\u001b[0;34m\u001b[0m\u001b[0m\n\u001b[1;32m    309\u001b[0m         \u001b[0;32melse\u001b[0m\u001b[0;34m:\u001b[0m\u001b[0;34m\u001b[0m\u001b[0;34m\u001b[0m\u001b[0m\n",
      "\u001b[0;32m/opt/conda/lib/python3.7/copy.py\u001b[0m in \u001b[0;36mdeepcopy\u001b[0;34m(x, memo, _nil)\u001b[0m\n\u001b[1;32m    178\u001b[0m                     \u001b[0my\u001b[0m \u001b[0;34m=\u001b[0m \u001b[0mx\u001b[0m\u001b[0;34m\u001b[0m\u001b[0;34m\u001b[0m\u001b[0m\n\u001b[1;32m    179\u001b[0m                 \u001b[0;32melse\u001b[0m\u001b[0;34m:\u001b[0m\u001b[0;34m\u001b[0m\u001b[0;34m\u001b[0m\u001b[0m\n\u001b[0;32m--> 180\u001b[0;31m                     \u001b[0my\u001b[0m \u001b[0;34m=\u001b[0m \u001b[0m_reconstruct\u001b[0m\u001b[0;34m(\u001b[0m\u001b[0mx\u001b[0m\u001b[0;34m,\u001b[0m \u001b[0mmemo\u001b[0m\u001b[0;34m,\u001b[0m \u001b[0;34m*\u001b[0m\u001b[0mrv\u001b[0m\u001b[0;34m)\u001b[0m\u001b[0;34m\u001b[0m\u001b[0;34m\u001b[0m\u001b[0m\n\u001b[0m\u001b[1;32m    181\u001b[0m \u001b[0;34m\u001b[0m\u001b[0m\n\u001b[1;32m    182\u001b[0m     \u001b[0;31m# If is its own copy, don't memoize.\u001b[0m\u001b[0;34m\u001b[0m\u001b[0;34m\u001b[0m\u001b[0;34m\u001b[0m\u001b[0m\n",
      "\u001b[0;32m/opt/conda/lib/python3.7/copy.py\u001b[0m in \u001b[0;36m_reconstruct\u001b[0;34m(x, memo, func, args, state, listiter, dictiter, deepcopy)\u001b[0m\n\u001b[1;32m    279\u001b[0m     \u001b[0;32mif\u001b[0m \u001b[0mstate\u001b[0m \u001b[0;32mis\u001b[0m \u001b[0;32mnot\u001b[0m \u001b[0;32mNone\u001b[0m\u001b[0;34m:\u001b[0m\u001b[0;34m\u001b[0m\u001b[0;34m\u001b[0m\u001b[0m\n\u001b[1;32m    280\u001b[0m         \u001b[0;32mif\u001b[0m \u001b[0mdeep\u001b[0m\u001b[0;34m:\u001b[0m\u001b[0;34m\u001b[0m\u001b[0;34m\u001b[0m\u001b[0m\n\u001b[0;32m--> 281\u001b[0;31m             \u001b[0mstate\u001b[0m \u001b[0;34m=\u001b[0m \u001b[0mdeepcopy\u001b[0m\u001b[0;34m(\u001b[0m\u001b[0mstate\u001b[0m\u001b[0;34m,\u001b[0m \u001b[0mmemo\u001b[0m\u001b[0;34m)\u001b[0m\u001b[0;34m\u001b[0m\u001b[0;34m\u001b[0m\u001b[0m\n\u001b[0m\u001b[1;32m    282\u001b[0m         \u001b[0;32mif\u001b[0m \u001b[0mhasattr\u001b[0m\u001b[0;34m(\u001b[0m\u001b[0my\u001b[0m\u001b[0;34m,\u001b[0m \u001b[0;34m'__setstate__'\u001b[0m\u001b[0;34m)\u001b[0m\u001b[0;34m:\u001b[0m\u001b[0;34m\u001b[0m\u001b[0;34m\u001b[0m\u001b[0m\n\u001b[1;32m    283\u001b[0m             \u001b[0my\u001b[0m\u001b[0;34m.\u001b[0m\u001b[0m__setstate__\u001b[0m\u001b[0;34m(\u001b[0m\u001b[0mstate\u001b[0m\u001b[0;34m)\u001b[0m\u001b[0;34m\u001b[0m\u001b[0;34m\u001b[0m\u001b[0m\n",
      "\u001b[0;32m/opt/conda/lib/python3.7/copy.py\u001b[0m in \u001b[0;36mdeepcopy\u001b[0;34m(x, memo, _nil)\u001b[0m\n\u001b[1;32m    148\u001b[0m     \u001b[0mcopier\u001b[0m \u001b[0;34m=\u001b[0m \u001b[0m_deepcopy_dispatch\u001b[0m\u001b[0;34m.\u001b[0m\u001b[0mget\u001b[0m\u001b[0;34m(\u001b[0m\u001b[0mcls\u001b[0m\u001b[0;34m)\u001b[0m\u001b[0;34m\u001b[0m\u001b[0;34m\u001b[0m\u001b[0m\n\u001b[1;32m    149\u001b[0m     \u001b[0;32mif\u001b[0m \u001b[0mcopier\u001b[0m\u001b[0;34m:\u001b[0m\u001b[0;34m\u001b[0m\u001b[0;34m\u001b[0m\u001b[0m\n\u001b[0;32m--> 150\u001b[0;31m         \u001b[0my\u001b[0m \u001b[0;34m=\u001b[0m \u001b[0mcopier\u001b[0m\u001b[0;34m(\u001b[0m\u001b[0mx\u001b[0m\u001b[0;34m,\u001b[0m \u001b[0mmemo\u001b[0m\u001b[0;34m)\u001b[0m\u001b[0;34m\u001b[0m\u001b[0;34m\u001b[0m\u001b[0m\n\u001b[0m\u001b[1;32m    151\u001b[0m     \u001b[0;32melse\u001b[0m\u001b[0;34m:\u001b[0m\u001b[0;34m\u001b[0m\u001b[0;34m\u001b[0m\u001b[0m\n\u001b[1;32m    152\u001b[0m         \u001b[0;32mtry\u001b[0m\u001b[0;34m:\u001b[0m\u001b[0;34m\u001b[0m\u001b[0;34m\u001b[0m\u001b[0m\n",
      "\u001b[0;32m/opt/conda/lib/python3.7/copy.py\u001b[0m in \u001b[0;36m_deepcopy_dict\u001b[0;34m(x, memo, deepcopy)\u001b[0m\n\u001b[1;32m    239\u001b[0m     \u001b[0mmemo\u001b[0m\u001b[0;34m[\u001b[0m\u001b[0mid\u001b[0m\u001b[0;34m(\u001b[0m\u001b[0mx\u001b[0m\u001b[0;34m)\u001b[0m\u001b[0;34m]\u001b[0m \u001b[0;34m=\u001b[0m \u001b[0my\u001b[0m\u001b[0;34m\u001b[0m\u001b[0;34m\u001b[0m\u001b[0m\n\u001b[1;32m    240\u001b[0m     \u001b[0;32mfor\u001b[0m \u001b[0mkey\u001b[0m\u001b[0;34m,\u001b[0m \u001b[0mvalue\u001b[0m \u001b[0;32min\u001b[0m \u001b[0mx\u001b[0m\u001b[0;34m.\u001b[0m\u001b[0mitems\u001b[0m\u001b[0;34m(\u001b[0m\u001b[0;34m)\u001b[0m\u001b[0;34m:\u001b[0m\u001b[0;34m\u001b[0m\u001b[0;34m\u001b[0m\u001b[0m\n\u001b[0;32m--> 241\u001b[0;31m         \u001b[0my\u001b[0m\u001b[0;34m[\u001b[0m\u001b[0mdeepcopy\u001b[0m\u001b[0;34m(\u001b[0m\u001b[0mkey\u001b[0m\u001b[0;34m,\u001b[0m \u001b[0mmemo\u001b[0m\u001b[0;34m)\u001b[0m\u001b[0;34m]\u001b[0m \u001b[0;34m=\u001b[0m \u001b[0mdeepcopy\u001b[0m\u001b[0;34m(\u001b[0m\u001b[0mvalue\u001b[0m\u001b[0;34m,\u001b[0m \u001b[0mmemo\u001b[0m\u001b[0;34m)\u001b[0m\u001b[0;34m\u001b[0m\u001b[0;34m\u001b[0m\u001b[0m\n\u001b[0m\u001b[1;32m    242\u001b[0m     \u001b[0;32mreturn\u001b[0m \u001b[0my\u001b[0m\u001b[0;34m\u001b[0m\u001b[0;34m\u001b[0m\u001b[0m\n\u001b[1;32m    243\u001b[0m \u001b[0md\u001b[0m\u001b[0;34m[\u001b[0m\u001b[0mdict\u001b[0m\u001b[0;34m]\u001b[0m \u001b[0;34m=\u001b[0m \u001b[0m_deepcopy_dict\u001b[0m\u001b[0;34m\u001b[0m\u001b[0;34m\u001b[0m\u001b[0m\n",
      "\u001b[0;32m/opt/conda/lib/python3.7/copy.py\u001b[0m in \u001b[0;36mdeepcopy\u001b[0;34m(x, memo, _nil)\u001b[0m\n\u001b[1;32m    159\u001b[0m             \u001b[0mcopier\u001b[0m \u001b[0;34m=\u001b[0m \u001b[0mgetattr\u001b[0m\u001b[0;34m(\u001b[0m\u001b[0mx\u001b[0m\u001b[0;34m,\u001b[0m \u001b[0;34m\"__deepcopy__\"\u001b[0m\u001b[0;34m,\u001b[0m \u001b[0;32mNone\u001b[0m\u001b[0;34m)\u001b[0m\u001b[0;34m\u001b[0m\u001b[0;34m\u001b[0m\u001b[0m\n\u001b[1;32m    160\u001b[0m             \u001b[0;32mif\u001b[0m \u001b[0mcopier\u001b[0m\u001b[0;34m:\u001b[0m\u001b[0;34m\u001b[0m\u001b[0;34m\u001b[0m\u001b[0m\n\u001b[0;32m--> 161\u001b[0;31m                 \u001b[0my\u001b[0m \u001b[0;34m=\u001b[0m \u001b[0mcopier\u001b[0m\u001b[0;34m(\u001b[0m\u001b[0mmemo\u001b[0m\u001b[0;34m)\u001b[0m\u001b[0;34m\u001b[0m\u001b[0;34m\u001b[0m\u001b[0m\n\u001b[0m\u001b[1;32m    162\u001b[0m             \u001b[0;32melse\u001b[0m\u001b[0;34m:\u001b[0m\u001b[0;34m\u001b[0m\u001b[0;34m\u001b[0m\u001b[0m\n\u001b[1;32m    163\u001b[0m                 \u001b[0mreductor\u001b[0m \u001b[0;34m=\u001b[0m \u001b[0mdispatch_table\u001b[0m\u001b[0;34m.\u001b[0m\u001b[0mget\u001b[0m\u001b[0;34m(\u001b[0m\u001b[0mcls\u001b[0m\u001b[0;34m)\u001b[0m\u001b[0;34m\u001b[0m\u001b[0;34m\u001b[0m\u001b[0m\n",
      "\u001b[0;32m/opt/conda/lib/python3.7/site-packages/torch/tensor.py\u001b[0m in \u001b[0;36m__deepcopy__\u001b[0;34m(self, memo)\u001b[0m\n\u001b[1;32m     36\u001b[0m     \u001b[0;32mdef\u001b[0m \u001b[0m__deepcopy__\u001b[0m\u001b[0;34m(\u001b[0m\u001b[0mself\u001b[0m\u001b[0;34m,\u001b[0m \u001b[0mmemo\u001b[0m\u001b[0;34m)\u001b[0m\u001b[0;34m:\u001b[0m\u001b[0;34m\u001b[0m\u001b[0;34m\u001b[0m\u001b[0m\n\u001b[1;32m     37\u001b[0m         \u001b[0;32mif\u001b[0m \u001b[0;32mnot\u001b[0m \u001b[0mself\u001b[0m\u001b[0;34m.\u001b[0m\u001b[0mis_leaf\u001b[0m\u001b[0;34m:\u001b[0m\u001b[0;34m\u001b[0m\u001b[0;34m\u001b[0m\u001b[0m\n\u001b[0;32m---> 38\u001b[0;31m             raise RuntimeError(\"Only Tensors created explicitly by the user \"\n\u001b[0m\u001b[1;32m     39\u001b[0m                                \"(graph leaves) support the deepcopy protocol at the moment\")\n\u001b[1;32m     40\u001b[0m         \u001b[0;32mif\u001b[0m \u001b[0mid\u001b[0m\u001b[0;34m(\u001b[0m\u001b[0mself\u001b[0m\u001b[0;34m)\u001b[0m \u001b[0;32min\u001b[0m \u001b[0mmemo\u001b[0m\u001b[0;34m:\u001b[0m\u001b[0;34m\u001b[0m\u001b[0;34m\u001b[0m\u001b[0m\n",
      "\u001b[0;31mRuntimeError\u001b[0m: Only Tensors created explicitly by the user (graph leaves) support the deepcopy protocol at the moment"
     ]
    }
   ],
   "source": [
    "model.adversarial_validation()"
   ]
  },
  {
   "cell_type": "code",
   "execution_count": 12,
   "metadata": {},
   "outputs": [
    {
     "output_type": "execute_result",
     "data": {
      "text/plain": "[tensor([0., 0., 0., 0., 0., 0., 0., 0., 0., 0., 0., 0., 0., 0., 0., 0., 0., 0., 0., 0., 0., 0., 0., 0.,\n         0., 0., 0., 0., 0., 0., 0., 0., 0., 0., 0., 0., 0., 0., 0., 0., 0., 0., 0., 0., 0., 0., 0., 0.,\n         0., 0., 0., 0., 0., 0., 0., 0., 0., 0., 0., 0., 0., 0., 0., 0., 0., 0., 0., 0., 0., 0., 0., 0.,\n         0., 0., 0., 0., 0., 0., 0., 0., 0., 0., 0., 0., 0., 0., 0., 0., 0., 0., 0., 0., 0., 0., 0., 0.,\n         0., 0., 0., 0., 0., 0., 0., 0., 0., 0., 0., 0., 0., 0., 0., 0., 0., 0., 0., 0., 0., 0., 0., 0.,\n         0., 0., 0., 0., 0., 0., 0., 0.]),\n tensor([0., 0., 0., 0., 0., 0., 0., 0., 0., 0., 0., 0., 0., 0., 0., 0., 0., 0., 0., 0., 0., 0., 0., 0.,\n         0., 0., 0., 0., 0., 0., 0., 0., 0., 0., 0., 0., 0., 0., 0., 0., 0., 0., 0., 0., 0., 0., 0., 0.,\n         0., 0., 0., 0., 0., 0., 0., 0., 0., 0., 0., 0., 0., 0., 0., 0., 0., 0., 0., 0., 0., 0., 0., 0.,\n         0., 0., 0., 0., 0., 0., 0., 0., 0., 0., 0., 0., 0., 0., 0., 0., 0., 0., 0., 0., 0., 0., 0., 0.,\n         0., 0., 0., 0., 0., 0., 0., 0., 0., 0., 0., 0., 0., 0., 0., 0., 0., 0., 0., 0., 0., 0., 0., 0.,\n         0., 0., 0., 0., 0., 0., 0., 0.]),\n tensor([0., 0., 0., 0., 0., 0., 0., 0., 0., 0., 0., 0., 0., 0., 0., 0., 0., 0., 0., 0., 0., 0., 0., 0.,\n         0., 0., 0., 0., 0., 0., 0., 0., 0., 0., 0., 0., 0., 0., 0., 0., 0., 0., 0., 0., 0., 0., 0., 0.,\n         0., 0., 0., 0., 0., 0., 0., 0., 0., 0., 0., 0., 0., 0., 0., 0., 0., 0., 0., 0., 0., 0., 0., 0.,\n         0., 0., 0., 0., 0., 0., 0., 0., 0., 0., 0., 0., 0., 0., 0., 0., 0., 0., 0., 0., 0., 0., 0., 0.,\n         0., 0., 0., 0., 0., 0., 0., 0., 0., 0., 0., 0., 0., 0., 0., 0., 0., 0., 0., 0., 0., 0., 0., 0.,\n         0., 0., 0., 0., 0., 0., 0., 0.]),\n tensor([0., 0., 0., 0., 0., 0., 0., 0., 0., 0., 0., 0., 0., 0., 0., 0., 0., 0., 0., 0., 0., 0., 0., 0.,\n         0., 0., 0., 0., 0., 0., 0., 0., 0., 0., 0., 0., 0., 0., 0., 0., 0., 0., 0., 0., 0., 0., 0., 0.,\n         0., 0., 0., 0., 0., 0., 0., 0., 0., 0., 0., 0., 0., 0., 0., 0., 0., 0., 0., 0., 0., 0., 0., 0.,\n         0., 0., 0., 0., 0., 0., 0., 0., 0., 0., 0., 0., 0., 0., 0., 0., 0., 0., 0., 0., 0., 0., 0., 0.,\n         0., 0., 0., 0., 0., 0., 0., 0., 0., 0., 0., 0., 0., 0., 0., 0., 0., 0., 0., 0., 0., 0., 0., 0.,\n         0., 0., 0., 0., 0., 0., 0., 0.]),\n tensor([0., 0., 0., 0., 0., 0., 0., 0., 0., 0., 0., 0., 0., 0., 0., 0., 0., 0., 0., 0., 0., 0., 0., 0.,\n         0., 0., 0., 0., 0., 0., 0., 0., 0., 0., 0., 0., 0., 0., 0., 0., 0., 0., 0., 0., 0., 0., 0., 0.,\n         0., 0., 0., 0., 0., 0., 0., 0., 0., 0., 0., 0., 0., 0., 0., 0., 0., 0., 0., 0., 0., 0., 0., 0.,\n         0., 0., 0., 0., 0., 0., 0., 0., 0., 0., 0., 0., 0., 0., 0., 0., 0., 0., 0., 0., 0., 0., 0., 0.,\n         0., 0., 0., 0., 0., 0., 0., 0., 0., 0., 0., 0., 0., 0., 0., 0., 0., 0., 0., 0., 0., 0., 0., 0.,\n         0., 0., 0., 0., 0., 0., 0., 0.]),\n tensor([0., 0., 0., 0., 0., 0., 0., 0., 0., 0., 0., 0., 0., 0., 0., 0., 0., 0., 0., 0., 0., 0., 0., 0.,\n         0., 0., 0., 0., 0., 0., 0., 0., 0., 0., 0., 0., 0., 0., 0., 0., 0., 0., 0., 0., 0., 0., 0., 0.,\n         0., 0., 0., 0., 0., 0., 0., 0., 0., 0., 0., 0., 0., 0., 0., 0., 0., 0., 0., 0., 0., 0., 0., 0.,\n         0., 0., 0., 0., 0., 0., 0., 0., 0., 0., 0., 0., 0., 0., 0., 0., 0., 0., 0., 0., 0., 0., 0., 0.,\n         0., 0., 0., 0., 0., 0., 0., 0., 0., 0., 0., 0., 0., 0., 0., 0., 0., 0., 0., 0., 0., 0., 0., 0.,\n         0., 0., 0., 0., 0., 0., 0., 0.]),\n tensor([0., 0., 0., 0., 0., 0., 0., 0., 0., 0., 0., 0., 0., 0., 0., 0., 0., 0., 0., 0., 0., 0., 0., 0.,\n         0., 0., 0., 0., 0., 0., 0., 0., 0., 0., 0., 0., 0., 0., 0., 0., 0., 0., 0., 0., 0., 0., 0., 0.,\n         0., 0., 0., 0., 0., 0., 0., 0., 0., 0., 0., 0., 0., 0., 0., 0., 0., 0., 0., 0., 0., 0., 0., 0.,\n         0., 0., 0., 0., 0., 0., 0., 0., 0., 0., 0., 0., 0., 0., 0., 0., 0., 0., 0., 0., 0., 0., 0., 0.,\n         0., 0., 0., 0., 0., 0., 0., 0., 0., 0., 0., 0., 0., 0., 0., 0., 0., 0., 0., 0., 0., 0., 0., 0.,\n         0., 0., 0., 0., 0., 0., 0., 0.]),\n tensor([0., 0., 0., 0., 0., 0., 0., 0., 0., 0., 0., 0., 0., 0., 0., 0., 0., 0., 0., 0., 0., 0., 0., 0.,\n         0., 0., 0., 0., 0., 0., 0., 0., 0., 0., 0., 0., 0., 0., 0., 0., 0., 0., 0., 0., 0., 0., 0., 0.,\n         0., 0., 0., 0., 0., 0., 0., 0., 0., 0., 0., 0., 0., 0., 0., 0., 0., 0., 0., 0., 0., 0., 0., 0.,\n         0., 0., 0., 0., 0., 0., 0., 0., 0., 0., 0., 0., 0., 0., 0., 0., 0., 0., 0., 0., 0., 0., 0., 0.,\n         0., 0., 0., 0., 0., 0., 0., 0., 0., 0., 0., 0., 0., 0., 0., 0., 0., 0., 0., 0., 0., 0., 0., 0.,\n         0., 0., 0., 0., 0., 0., 0., 0.]),\n tensor([0., 0., 0., 0., 0., 0., 0., 0., 0., 0., 0., 0., 0., 0., 0., 0., 0., 0., 0., 0., 0., 0., 0., 0.,\n         0., 0., 0., 0., 0., 0., 0., 0., 0., 0., 0., 0., 0., 0., 0., 0., 0., 0., 0., 0., 0., 0., 0., 0.,\n         0., 0., 0., 0., 0., 0., 0., 0., 0., 0., 0., 0., 0., 0., 0., 0., 0., 0., 0., 0., 0., 0., 0., 0.,\n         0., 0., 0., 0., 0., 0., 0., 0., 0., 0., 0., 0., 0., 0., 0., 0., 0., 0., 0., 0., 0., 0., 0., 0.,\n         0., 0., 0., 0., 0., 0., 0., 0., 0., 0., 0., 0., 0., 0., 0., 0., 0., 0., 0., 0., 0., 0., 0., 0.,\n         0., 0., 0., 0., 0., 0., 0., 0.]),\n tensor([0., 0., 0., 0., 0., 0., 0., 0., 0., 0., 0., 0., 0., 0., 0., 0., 0., 0., 0., 0., 0., 0., 0., 0.,\n         0., 0., 0., 0., 0., 0., 0., 0., 0., 0., 0., 0., 0., 0., 0., 0., 0., 0., 0., 0., 0., 0., 0., 0.,\n         0., 0., 0., 0., 0., 0., 0., 0., 0., 0., 0., 0., 0., 0., 0., 0., 0., 0., 0., 0., 0., 0., 0., 0.,\n         0., 0., 0., 0., 0., 0., 0., 0., 0., 0., 0., 0., 0., 0., 0., 0., 0., 0., 0., 0., 0., 0., 0., 0.,\n         0., 0., 0., 0., 0., 0., 0., 0., 0., 0., 0., 0., 0., 0., 0., 0., 0., 0., 0., 0., 0., 0., 0., 0.,\n         0., 0., 0., 0., 0., 0., 0., 0.])]"
     },
     "metadata": {},
     "execution_count": 12
    }
   ],
   "source": [
    "list(model.fc2.weight.grad)"
   ]
  },
  {
   "cell_type": "code",
   "execution_count": null,
   "metadata": {},
   "outputs": [],
   "source": []
  }
 ]
}